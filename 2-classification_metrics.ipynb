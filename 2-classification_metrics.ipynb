{
  "cells": [
    {
      "cell_type": "markdown",
      "metadata": {
        "id": "view-in-github",
        "colab_type": "text"
      },
      "source": [
        "<a href=\"https://colab.research.google.com/github/fzambran/curso-ml-dcc/blob/main/2-classification_metrics.ipynb\" target=\"_parent\"><img src=\"https://colab.research.google.com/assets/colab-badge.svg\" alt=\"Open In Colab\"/></a>"
      ]
    },
    {
      "cell_type": "markdown",
      "metadata": {
        "id": "SoJJVqmWk_jN"
      },
      "source": [
        "# Métricas de clasificación\n",
        "\n",
        "Para poder evaluar el desempeño de un modelo predictivo se deben aplicar medidas que nos comuniquen el rendimiendo del modelo de una manera sistemática. Con estas métricas de desempeño podremos tomar decisiones en la etapa de selección de modelos, en donde queremos seleccionar el modelo que mejor se desempeñe en nuestra tarea. Estas métricas deben ser seleccionadas acorde a la tarea que queremos resolver y el objetivo que queremos alcanzar."
      ],
      "id": "SoJJVqmWk_jN"
    },
    {
      "cell_type": "code",
      "execution_count": null,
      "metadata": {
        "id": "ovqsf8B3k_jR"
      },
      "outputs": [],
      "source": [
        "import pandas as pd # Biblioteca de manejo de datos tabulares\n",
        "import numpy as np # Biblioteca de manejo de datos vectoriales\n",
        "import sklearn.model_selection # Módulo de selección de modelos de sklearn\n",
        "import sklearn.svm # Módulo de support vector machines\n",
        "import sklearn.dummy # Módulo de estimadores al azar\n",
        "import sklearn.metrics # Módulo de métricas de desempeño\n",
        "import sklearn.datasets # Módulo de conjuntos de datos de muestra\n",
        "import collections # Módulo de python con estructuras de datos\n",
        "import matplotlib.pyplot as plt # Biblioteca de visualización"
      ],
      "id": "ovqsf8B3k_jR"
    },
    {
      "cell_type": "markdown",
      "metadata": {
        "id": "x_zjayUIk_jS"
      },
      "source": [
        "Utilizaremos un conjunto de datos de cáncer, en donde desde un conjunto de características celulares, buscamos predecir la malignidad del tumor."
      ],
      "id": "x_zjayUIk_jS"
    },
    {
      "cell_type": "code",
      "execution_count": null,
      "metadata": {
        "id": "awX4fx1nk_jT"
      },
      "outputs": [],
      "source": [
        "breast_cancer = sklearn.datasets.load_breast_cancer()"
      ],
      "id": "awX4fx1nk_jT"
    },
    {
      "cell_type": "code",
      "execution_count": null,
      "metadata": {
        "id": "HKN4iBSQk_jT"
      },
      "outputs": [],
      "source": [
        "features = breast_cancer.data"
      ],
      "id": "HKN4iBSQk_jT"
    },
    {
      "cell_type": "code",
      "execution_count": null,
      "metadata": {
        "id": "GMMtGRRnk_jU"
      },
      "outputs": [],
      "source": [
        "label = breast_cancer.target"
      ],
      "id": "GMMtGRRnk_jU"
    },
    {
      "cell_type": "markdown",
      "metadata": {
        "id": "QsmeEC8Gk_jU"
      },
      "source": [
        "Para poder evaluar los desempeños de nuestros modelos de la manera más válida posible, se suele dividir nuestro conjunto de datos un en subconjunto de entrenamiento y uno de prueba. El subconjunto de entrenamiento es el único que utilizaremos para entrenar nuestro modelo. El subconjunto de prueba es independiente al de entrenamiento y con este evaluamos las métricas de desempeño de nuestro modelo.\n",
        "\n",
        "Para fácilemente realizar esta separación utilizamos la función ``sklearn.model_selection.train_test_split()``"
      ],
      "id": "QsmeEC8Gk_jU"
    },
    {
      "cell_type": "code",
      "execution_count": null,
      "metadata": {
        "id": "QBMrlpEUk_jV"
      },
      "outputs": [],
      "source": [
        "features_train, features_test, label_train, label_test = sklearn.model_selection.train_test_split( # Vamos a guardar todos los subconjuntos que nos devolverá la función en distintas variables\n",
        "    features, \n",
        "    label, \n",
        "    test_size=0.33, # Este es el tamaño relativo que tendrá el subconjunto de prueba\n",
        "    random_state=11, # # Con esto bloqueamos el generador de números aleatorios para tener resultados consistentes\n",
        "    stratify=label # Conservamos las proporciones entre las clases\n",
        ")"
      ],
      "id": "QBMrlpEUk_jV"
    },
    {
      "cell_type": "markdown",
      "metadata": {
        "id": "Wxr90wKkk_jW"
      },
      "source": [
        "Mediremos las métricas de desemèño sobre un modelo basado en Support Vector Machines con un kernel lineal."
      ],
      "id": "Wxr90wKkk_jW"
    },
    {
      "cell_type": "code",
      "execution_count": null,
      "metadata": {
        "id": "p8CNAZutk_jW"
      },
      "outputs": [],
      "source": [
        "svc_classifier_linear = sklearn.svm.SVC(kernel=\"linear\", probability=True) # Instanciamos el algoritmo para entrenar un modelo de SVM\n",
        "svc_classifier_linear.fit(features_train, label_train) # Ajustamos el modelo\n",
        "svc_classifier_linear_predictions_discrete = svc_classifier_linear.predict(features_test) # Predecimos sobre el subconjunto de prueba"
      ],
      "id": "p8CNAZutk_jW"
    },
    {
      "cell_type": "markdown",
      "metadata": {
        "id": "1xuU5-6ok_jX"
      },
      "source": [
        "Como modelo de control utilizaremos un modelo que simplemente nos devuelva una etiqueta al azar, respecto la distribución de las etiquetas del conjunto de prueba."
      ],
      "id": "1xuU5-6ok_jX"
    },
    {
      "cell_type": "code",
      "execution_count": null,
      "metadata": {
        "id": "AA9f0LaIk_jX"
      },
      "outputs": [],
      "source": [
        "dummy_classifier = sklearn.dummy.DummyClassifier(strategy=\"stratified\", random_state=12)\n",
        "dummy_classifier.fit(features_train, label_train)\n",
        "dummy_classifier_predictions_discrete = dummy_classifier.predict(features_test)"
      ],
      "id": "AA9f0LaIk_jX"
    },
    {
      "cell_type": "markdown",
      "metadata": {
        "id": "_xyk3Zoyk_jY"
      },
      "source": [
        "## Matriz de confusión"
      ],
      "id": "_xyk3Zoyk_jY"
    },
    {
      "cell_type": "markdown",
      "metadata": {
        "id": "dUXEfTuHk_jY"
      },
      "source": [
        "Un grupo de métricas de clasificación se basan en una tabla con un diseño específico que nos permite visualizar el desempeño de un modelo, esta matriz de confusión representa en cada fila las instancias que pertenecen correctamente a cada clase y cada columna representa las instances que el modelo predijo en cada clase o vice-versa.\n",
        "\n",
        "Esta matriz la podemos construir directamente con la función ``sklearn.metrics.confusion_matrix()``."
      ],
      "id": "dUXEfTuHk_jY"
    },
    {
      "cell_type": "code",
      "execution_count": null,
      "metadata": {
        "id": "oaK0jTFwk_jY",
        "outputId": "60852647-ebd6-47ea-c352-81b57b573649"
      },
      "outputs": [
        {
          "data": {
            "text/plain": [
              "array([[ 63,   7],\n",
              "       [  3, 115]])"
            ]
          },
          "execution_count": 8,
          "metadata": {},
          "output_type": "execute_result"
        }
      ],
      "source": [
        "sklearn.metrics.confusion_matrix(\n",
        "    label_test, # Aquí pasamos las clases correctas\n",
        "    svc_classifier_linear_predictions_discrete # Aquí pasamos las clases predichas por el modelo\n",
        ")"
      ],
      "id": "oaK0jTFwk_jY"
    },
    {
      "cell_type": "code",
      "execution_count": null,
      "metadata": {
        "id": "AlZYdOpNk_jZ",
        "outputId": "395e93c3-91e4-4481-8d2e-b6b32c679bf7"
      },
      "outputs": [
        {
          "data": {
            "text/plain": [
              "array([[26, 44],\n",
              "       [42, 76]])"
            ]
          },
          "execution_count": 9,
          "metadata": {},
          "output_type": "execute_result"
        }
      ],
      "source": [
        "sklearn.metrics.confusion_matrix(label_test, dummy_classifier_predictions_discrete)"
      ],
      "id": "AlZYdOpNk_jZ"
    },
    {
      "cell_type": "markdown",
      "metadata": {
        "id": "OVdNlWuFk_jZ"
      },
      "source": [
        "También podemos visualizar como mapa de calor la matriz de confusión con ``sklearn.metrics.plot_confusion_matrix()``"
      ],
      "id": "OVdNlWuFk_jZ"
    },
    {
      "cell_type": "code",
      "execution_count": null,
      "metadata": {
        "id": "PlyCIqwnk_ja",
        "outputId": "d7d74bd4-d57c-4423-dc5b-491d967d7f07"
      },
      "outputs": [
        {
          "data": {
            "text/plain": [
              "<sklearn.metrics._plot.confusion_matrix.ConfusionMatrixDisplay at 0x7f3a20267a10>"
            ]
          },
          "execution_count": 10,
          "metadata": {},
          "output_type": "execute_result"
        },
        {
          "data": {
            "image/png": "[encoded data removed]",
            "text/plain": [
              "<Figure size 432x288 with 2 Axes>"
            ]
          },
          "metadata": {
            "needs_background": "light"
          },
          "output_type": "display_data"
        }
      ],
      "source": [
        "sklearn.metrics.plot_confusion_matrix(\n",
        "    svc_classifier_linear, features_test, label_test,\n",
        ")"
      ],
      "id": "PlyCIqwnk_ja"
    },
    {
      "cell_type": "markdown",
      "metadata": {
        "id": "GUS9SZQWk_ja"
      },
      "source": [
        "Para poder facilitarnos el manejo de la matriz de confusión de manera más simple crearemos una función que nos devolverá un objeto al cual podemos acceder a cada elemento de la matriz de confusión por su nombre."
      ],
      "id": "GUS9SZQWk_ja"
    },
    {
      "cell_type": "code",
      "execution_count": null,
      "metadata": {
        "id": "d7biqYXAk_ja"
      },
      "outputs": [],
      "source": [
        "def confusion_matrix(cm):\n",
        "    \"\"\" Esta función recibe una matriz de confusión creada con sklearn y devuelve una namedtouple para acceder a sus\n",
        "    elementos por su nombre.\n",
        "    \"\"\"\n",
        "    # Se puede observar acá en qué celda se encuentra cada elemento en nuestra matriz de confusión.\n",
        "    true_negatives = cm[0,0] # Los verdaderos negativos se encuentran arriba a la izquierda.\n",
        "    false_negatives = cm[0,1]\n",
        "    false_positives = cm[1,0]\n",
        "    true_positives = cm[1,1]\n",
        "    ConfusionMatrix = collections.namedtuple(\"ConfusionMatrix\", [\"true_negatives\", \"false_negatives\", \"false_positives\", \"true_positives\"])\n",
        "    return ConfusionMatrix(true_negatives, false_negatives, false_positives, true_positives)"
      ],
      "id": "d7biqYXAk_ja"
    },
    {
      "cell_type": "markdown",
      "metadata": {
        "id": "oCCWMBeik_jb"
      },
      "source": [
        "Transformamos las matrices de confusión generadas por sklearn hacia la representación creada anteriormente."
      ],
      "id": "oCCWMBeik_jb"
    },
    {
      "cell_type": "code",
      "execution_count": null,
      "metadata": {
        "id": "ayYc4A99k_jb",
        "outputId": "a905e778-88f5-405e-fba8-21301b31dc79"
      },
      "outputs": [
        {
          "data": {
            "text/plain": [
              "ConfusionMatrix(true_negatives=63, false_negatives=7, false_positives=3, true_positives=115)"
            ]
          },
          "execution_count": 12,
          "metadata": {},
          "output_type": "execute_result"
        }
      ],
      "source": [
        "svc_classifier_linear_confusion_matrix = confusion_matrix(sklearn.metrics.confusion_matrix(label_test, svc_classifier_linear_predictions_discrete))\n",
        "svc_classifier_linear_confusion_matrix"
      ],
      "id": "ayYc4A99k_jb"
    },
    {
      "cell_type": "code",
      "execution_count": null,
      "metadata": {
        "id": "19Wm_vihk_jb",
        "outputId": "579a53b2-96dd-43cb-8c32-5cfb2e02e551"
      },
      "outputs": [
        {
          "data": {
            "text/plain": [
              "ConfusionMatrix(true_negatives=26, false_negatives=44, false_positives=42, true_positives=76)"
            ]
          },
          "execution_count": 13,
          "metadata": {},
          "output_type": "execute_result"
        }
      ],
      "source": [
        "dummy_classifier_confusion_matrix = confusion_matrix(sklearn.metrics.confusion_matrix(label_test, dummy_classifier_predictions_discrete))\n",
        "dummy_classifier_confusion_matrix"
      ],
      "id": "19Wm_vihk_jb"
    },
    {
      "cell_type": "markdown",
      "metadata": {
        "id": "qA7FeIC5k_jb"
      },
      "source": [
        "## Accuracy\n",
        "\n",
        "La métrica de accuracy es una medida no dependiente de la clase que nos resume completamente nuestra matriz de confusión. Esta métrica se usa poco porque es muy sensible a casos desbalanceados. Esta métrica se calcula de esta manera:\n",
        "\n",
        "$$\n",
        "Accuracy = \\frac{TP + TN}{TP + TN + FP + FN},\n",
        "$$\n",
        "\n",
        "donde $TP =$ Verdaderos positivos, $TN =$ Verdaderos negativos, $FP =$ Falsos positivos, $FN =$ Falsos negativos"
      ],
      "id": "qA7FeIC5k_jb"
    },
    {
      "cell_type": "code",
      "execution_count": null,
      "metadata": {
        "id": "vDZMqVAIk_jc"
      },
      "outputs": [],
      "source": [
        "def accuracy(cm):\n",
        "    \"\"\"Recibe una matriz de confusión y retorna la métrica de Accuracy\"\"\"\n",
        "    return (cm.true_positives + cm.true_negatives) / (cm.true_positives + cm.true_negatives + cm.false_positives + cm.false_negatives) "
      ],
      "id": "vDZMqVAIk_jc"
    },
    {
      "cell_type": "markdown",
      "metadata": {
        "id": "QvCmFhRHk_jc"
      },
      "source": [
        "Podemos ver que respecto al accuracy, el modelo basado en Support Vector Machines funciona mejor que el de control."
      ],
      "id": "QvCmFhRHk_jc"
    },
    {
      "cell_type": "code",
      "execution_count": null,
      "metadata": {
        "id": "ZbmG0fsjk_jc",
        "outputId": "1fea033c-1ce6-49d2-83eb-0796b1d4898e"
      },
      "outputs": [
        {
          "data": {
            "text/plain": [
              "0.9468085106382979"
            ]
          },
          "execution_count": 15,
          "metadata": {},
          "output_type": "execute_result"
        }
      ],
      "source": [
        "accuracy(svc_classifier_linear_confusion_matrix)"
      ],
      "id": "ZbmG0fsjk_jc"
    },
    {
      "cell_type": "code",
      "execution_count": null,
      "metadata": {
        "id": "fxKv6PySk_jc",
        "outputId": "8ca25352-0e54-459b-b42f-e9536bdee8cc"
      },
      "outputs": [
        {
          "data": {
            "text/plain": [
              "0.5425531914893617"
            ]
          },
          "execution_count": 16,
          "metadata": {},
          "output_type": "execute_result"
        }
      ],
      "source": [
        "accuracy(dummy_classifier_confusion_matrix)"
      ],
      "id": "fxKv6PySk_jc"
    },
    {
      "cell_type": "markdown",
      "metadata": {
        "id": "OWwkYD-hk_jd"
      },
      "source": [
        "## Precision\n",
        "\n",
        "En general, la métrica de precision es una métrica dependiente de la clase, que se define como:\n",
        "\n",
        "$$\n",
        "Precision = \\frac{|elementos\\ relevantes|\\cap|elementos\\ recogidos|}{|elementos\\ recogidos|}\n",
        "$$,\n",
        "\n",
        "por lo que se puede calcular para cualquier clase, pero la variante más usada, y la cual se considera como precision por defecto se define como:\n",
        "\n",
        "$$\n",
        "Precision = \\frac{TP}{TP + FP}\n",
        "$$"
      ],
      "id": "OWwkYD-hk_jd"
    },
    {
      "cell_type": "code",
      "execution_count": null,
      "metadata": {
        "id": "_jMi8NOSk_jd"
      },
      "outputs": [],
      "source": [
        "def precision(cm):\n",
        "    \"\"\"Recibe una matriz de confusión y retorna la métrica de Precision\"\"\"\n",
        "    return cm.true_positives / (cm.true_positives + cm.false_positives)"
      ],
      "id": "_jMi8NOSk_jd"
    },
    {
      "cell_type": "markdown",
      "metadata": {
        "id": "GOxqzonik_jd"
      },
      "source": [
        "El modelo basado en Support Vector Machines, también se comporta mejor según esta métrica."
      ],
      "id": "GOxqzonik_jd"
    },
    {
      "cell_type": "code",
      "execution_count": null,
      "metadata": {
        "id": "KgT8D_-Gk_jd",
        "outputId": "5a144d56-2f13-4ee8-a791-35d959e496fe"
      },
      "outputs": [
        {
          "data": {
            "text/plain": [
              "0.9745762711864406"
            ]
          },
          "execution_count": 18,
          "metadata": {},
          "output_type": "execute_result"
        }
      ],
      "source": [
        "precision(svc_classifier_linear_confusion_matrix)"
      ],
      "id": "KgT8D_-Gk_jd"
    },
    {
      "cell_type": "code",
      "execution_count": null,
      "metadata": {
        "id": "81wGd4b5k_jd",
        "outputId": "d4398e99-4431-4003-a60c-ad77def2b967"
      },
      "outputs": [
        {
          "data": {
            "text/plain": [
              "0.6440677966101694"
            ]
          },
          "execution_count": 19,
          "metadata": {},
          "output_type": "execute_result"
        }
      ],
      "source": [
        "precision(dummy_classifier_confusion_matrix)"
      ],
      "id": "81wGd4b5k_jd"
    },
    {
      "cell_type": "markdown",
      "metadata": {
        "id": "Xvs53li5k_je"
      },
      "source": [
        "## Recall\n",
        "\n",
        "En general, la métrica de recall es una métrica dependiente de la clase, que se define como:\n",
        "\n",
        "$$\n",
        "Recall = \\frac{|elementos\\ relevantes|\\cap|elementos\\ recogidos|}{|elementos\\ relevantes|}\n",
        "$$,\n",
        "\n",
        "por lo que se puede calcular para cualquier clase, pero la variante más usada, y la cual se considera como recall por defecto se define como:\n",
        "\n",
        "$$\n",
        "Recall = \\frac{TP}{TP + FN}\n",
        "$$"
      ],
      "id": "Xvs53li5k_je"
    },
    {
      "cell_type": "code",
      "execution_count": null,
      "metadata": {
        "id": "7DGuBQAFk_je"
      },
      "outputs": [],
      "source": [
        "def recall(cm):\n",
        "    \"\"\"Recibe una matriz de confusión y retorna la métrica de Recall\"\"\"\n",
        "    return cm.true_positives / (cm.false_negatives + cm.true_positives)"
      ],
      "id": "7DGuBQAFk_je"
    },
    {
      "cell_type": "markdown",
      "metadata": {
        "id": "NPZFa9bRk_jf"
      },
      "source": [
        "El modelo basado en Support Vector Machines, también se comporta mejor según esta métrica."
      ],
      "id": "NPZFa9bRk_jf"
    },
    {
      "cell_type": "code",
      "execution_count": null,
      "metadata": {
        "id": "4rPWHI3Ok_jf",
        "outputId": "b7edfcb6-3e82-47d5-9da5-c13cb9fe2964"
      },
      "outputs": [
        {
          "data": {
            "text/plain": [
              "0.9426229508196722"
            ]
          },
          "execution_count": 21,
          "metadata": {},
          "output_type": "execute_result"
        }
      ],
      "source": [
        "recall(svc_classifier_linear_confusion_matrix)"
      ],
      "id": "4rPWHI3Ok_jf"
    },
    {
      "cell_type": "code",
      "execution_count": null,
      "metadata": {
        "id": "nytJBMOQk_jf",
        "outputId": "6e24bc00-accd-42e1-c03c-c4519744b51b"
      },
      "outputs": [
        {
          "data": {
            "text/plain": [
              "0.6333333333333333"
            ]
          },
          "execution_count": 22,
          "metadata": {},
          "output_type": "execute_result"
        }
      ],
      "source": [
        "recall(dummy_classifier_confusion_matrix)"
      ],
      "id": "nytJBMOQk_jf"
    },
    {
      "cell_type": "markdown",
      "metadata": {
        "id": "lKTp6lhak_jf"
      },
      "source": [
        "## F-Score\n",
        "\n",
        "La métrica F-Score es una medida que busca obtener un resumen del rendimiento de un modelo en una clase específica respecto a sus medidas de precision y recall.\n",
        "\n",
        "En general, esta métrica se define como:\n",
        "\n",
        "$$\n",
        "F_\\beta = (1 + \\beta^2) \\cdot \\frac{\\mathrm{Precision} \\cdot \\mathrm{Recall}}{(\\beta^2 \\cdot \\mathrm{Precision}) + \\mathrm{Recall}},\n",
        "$$\n",
        "\n",
        "donde $\\beta$ es un parámetro libre que busca ponderar la importancia del recall, donde el recall es considerado $\\beta$ veces más importante que la precision.\n",
        "\n",
        "Tradicionalmente se utiliza el F1-Score en donde $\\beta = 1$ y se define como:\n",
        "\n",
        "$$\n",
        "F_1 = 2 \\cdot \\frac{\\mathrm{precision} \\cdot \\mathrm{recall}}{\\mathrm{precision} + \\mathrm{recall}} \n",
        "$$"
      ],
      "id": "lKTp6lhak_jf"
    },
    {
      "cell_type": "code",
      "execution_count": null,
      "metadata": {
        "id": "_incBMSUk_jg"
      },
      "outputs": [],
      "source": [
        "def f_beta(cm, beta=1):\n",
        "    \"\"\"Recibe una matriz de confusión y retorna la métrica de F_beta-Score\"\"\"\n",
        "    current_precision = precision(cm)\n",
        "    current_recall = recall(cm)\n",
        "    return (1 + beta**2) * ((current_precision * current_recall) / ((beta**2 * current_precision) + current_recall))"
      ],
      "id": "_incBMSUk_jg"
    },
    {
      "cell_type": "markdown",
      "metadata": {
        "id": "wxdLiAAvk_jg"
      },
      "source": [
        "El modelo basado en Support Vector Machines, también se comporta mejor según esta métrica."
      ],
      "id": "wxdLiAAvk_jg"
    },
    {
      "cell_type": "code",
      "execution_count": null,
      "metadata": {
        "id": "N40PIyfZk_jg",
        "outputId": "9e85392d-5228-49eb-f944-a6c0df731ff4"
      },
      "outputs": [
        {
          "data": {
            "text/plain": [
              "0.9583333333333334"
            ]
          },
          "execution_count": 24,
          "metadata": {},
          "output_type": "execute_result"
        }
      ],
      "source": [
        "f_beta(svc_classifier_linear_confusion_matrix)"
      ],
      "id": "N40PIyfZk_jg"
    },
    {
      "cell_type": "code",
      "execution_count": null,
      "metadata": {
        "id": "9njP2P3yk_jg",
        "outputId": "62f46fa5-ffaa-4bbc-a497-7498d56d2f9a"
      },
      "outputs": [
        {
          "data": {
            "text/plain": [
              "0.6386554621848739"
            ]
          },
          "execution_count": 25,
          "metadata": {},
          "output_type": "execute_result"
        }
      ],
      "source": [
        "f_beta(dummy_classifier_confusion_matrix)"
      ],
      "id": "9njP2P3yk_jg"
    },
    {
      "cell_type": "markdown",
      "metadata": {
        "id": "A50aqDo8k_jg"
      },
      "source": [
        "## Classification report\n",
        "\n",
        "sklearn nos probee de una función que nos resume el rendimiento de nuestro modelo con todas las métricas definidas anteriormente. Además nos ofrece métricas que agregan los rendimientos de cada clase con distintas técnicas de agregación:\n",
        "\n",
        "* Promedio ponderado: La medida de cada clase se pondera por el tamaño de la clase y luego se suman\n",
        "* Promedio macro: La medida de cada clase simplemente se promedia.\n",
        "\n",
        "Este reporte se implementa en la función ``sklearn.metrics.classification_report()``"
      ],
      "id": "A50aqDo8k_jg"
    },
    {
      "cell_type": "code",
      "execution_count": null,
      "metadata": {
        "id": "w691f3Lxk_jh",
        "outputId": "38f5084b-85e0-4e8f-8aac-6a875e5656d9"
      },
      "outputs": [
        {
          "name": "stdout",
          "output_type": "stream",
          "text": [
            "              precision    recall  f1-score   support\n",
            "\n",
            "           0       0.95      0.90      0.93        70\n",
            "           1       0.94      0.97      0.96       118\n",
            "\n",
            "    accuracy                           0.95       188\n",
            "   macro avg       0.95      0.94      0.94       188\n",
            "weighted avg       0.95      0.95      0.95       188\n",
            "\n"
          ]
        }
      ],
      "source": [
        "print(sklearn.metrics.classification_report(label_test, svc_classifier_linear_predictions_discrete))"
      ],
      "id": "w691f3Lxk_jh"
    },
    {
      "cell_type": "code",
      "execution_count": null,
      "metadata": {
        "id": "ZW70puAHk_jh",
        "outputId": "d98e886b-d784-45d0-f81f-0524024b911e"
      },
      "outputs": [
        {
          "name": "stdout",
          "output_type": "stream",
          "text": [
            "              precision    recall  f1-score   support\n",
            "\n",
            "           0       0.38      0.37      0.38        70\n",
            "           1       0.63      0.64      0.64       118\n",
            "\n",
            "    accuracy                           0.54       188\n",
            "   macro avg       0.51      0.51      0.51       188\n",
            "weighted avg       0.54      0.54      0.54       188\n",
            "\n"
          ]
        }
      ],
      "source": [
        "print(sklearn.metrics.classification_report(label_test, dummy_classifier_predictions_discrete))"
      ],
      "id": "ZW70puAHk_jh"
    },
    {
      "cell_type": "markdown",
      "metadata": {
        "id": "aj9MMtYVk_jh"
      },
      "source": [
        "## False positive rate\n",
        "\n",
        "Esta es una métrica poco utilizada de manera aislada, pero es importante para poder calcular el área bajo la curva ROC. Esta métrica se define como:\n",
        "\n",
        "$$\n",
        "FPR=\\frac{\\mathrm{FP}}{\\mathrm{FP} + \\mathrm{TN}}\n",
        "$$"
      ],
      "id": "aj9MMtYVk_jh"
    },
    {
      "cell_type": "code",
      "execution_count": null,
      "metadata": {
        "id": "vQQ8oVFyk_ji"
      },
      "outputs": [],
      "source": [
        "def false_positive_rate(cm):\n",
        "    \"\"\"Recibe una matriz de confusión y retorna la métrica de False Positive Rate\"\"\"\n",
        "    return cm.false_positives / (cm.false_positives + cm.true_negatives)"
      ],
      "id": "vQQ8oVFyk_ji"
    },
    {
      "cell_type": "code",
      "execution_count": null,
      "metadata": {
        "id": "pluWShXXk_ji",
        "outputId": "382c2774-5bea-4442-dc1a-188815dc560c"
      },
      "outputs": [
        {
          "data": {
            "text/plain": [
              "0.045454545454545456"
            ]
          },
          "execution_count": 29,
          "metadata": {},
          "output_type": "execute_result"
        }
      ],
      "source": [
        "false_positive_rate(svc_classifier_linear_confusion_matrix)"
      ],
      "id": "pluWShXXk_ji"
    },
    {
      "cell_type": "code",
      "execution_count": null,
      "metadata": {
        "id": "2h5SnS1kk_ji",
        "outputId": "c32638e0-1895-4585-8512-45c1247b0254"
      },
      "outputs": [
        {
          "data": {
            "text/plain": [
              "0.6176470588235294"
            ]
          },
          "execution_count": 30,
          "metadata": {},
          "output_type": "execute_result"
        }
      ],
      "source": [
        "false_positive_rate(dummy_classifier_confusion_matrix)"
      ],
      "id": "2h5SnS1kk_ji"
    },
    {
      "cell_type": "markdown",
      "metadata": {
        "id": "19TV3dx8k_ji"
      },
      "source": [
        "## Area under the receiver operating characteristic curve\n",
        "\n",
        "La curva receiver operating characteristic (ROC) es una representación gráfica que ilustra la capacidad predictiva de un clasificador binario a medida que su umbral de decisión es variado."
      ],
      "id": "19TV3dx8k_ji"
    },
    {
      "cell_type": "markdown",
      "metadata": {
        "id": "EuhKW96Tk_jj"
      },
      "source": [
        "![image.png](attachment:image.png)"
      ],
      "id": "EuhKW96Tk_jj"
    },
    {
      "cell_type": "markdown",
      "metadata": {
        "id": "Pzn3kddok_jj"
      },
      "source": [
        "Y una métrica que se deriva de esta representación es el área bajo la curva ROC (AUC). Esta métrica es altamente utilizada y nos comunica la probabilidad que un clasificador posicionará una instancia positiva al azar más alto que una instancia negativa al azar (asumiendo que las instancias positivas se posicionan más alto que las negativas)."
      ],
      "id": "Pzn3kddok_jj"
    },
    {
      "cell_type": "markdown",
      "metadata": {
        "id": "uc2bVonRk_jj"
      },
      "source": [
        "Para poder calcular la curva ROC debemos calcular las métricas de desempeño de nuestro modelo al variar el umbral de decision con un barrido de valores."
      ],
      "id": "uc2bVonRk_jj"
    },
    {
      "cell_type": "code",
      "execution_count": null,
      "metadata": {
        "id": "BBcsYR1qk_jj"
      },
      "outputs": [],
      "source": [
        "def recall_at_threshold(true, predicted_proba, threshold=0.5):\n",
        "    \"\"\"Recibe las clases correctas, las probabilidades predichas por un modelo y un umbral y retorna\n",
        "    la métrica de recall asociada a ese umbral.\n",
        "    \"\"\"\n",
        "    return recall(\n",
        "        confusion_matrix(\n",
        "            sklearn.metrics.confusion_matrix(\n",
        "                true, predicted_proba[:,1] >= threshold\n",
        "            )\n",
        "        )\n",
        "    )"
      ],
      "id": "BBcsYR1qk_jj"
    },
    {
      "cell_type": "code",
      "execution_count": null,
      "metadata": {
        "id": "Z-YADQ9qk_jk"
      },
      "outputs": [],
      "source": [
        "def false_positive_rate_at_threshold(true, predicted_proba, threshold=0.5):\n",
        "    \"\"\"Recibe las clases correctas, las probabilidades predichas por un modelo y un umbral y retorna\n",
        "    la métrica de false positive rate asociada a ese umbral.\n",
        "    \"\"\"\n",
        "    return false_positive_rate(\n",
        "        confusion_matrix(\n",
        "            sklearn.metrics.confusion_matrix(\n",
        "                true, predicted_proba[:,1] >= threshold\n",
        "            )\n",
        "        )\n",
        "    )"
      ],
      "id": "Z-YADQ9qk_jk"
    },
    {
      "cell_type": "markdown",
      "metadata": {
        "id": "2imBQjR-k_jk"
      },
      "source": [
        "Primero debemos obtener las probabilidades predichas por nuestros estimadores con el método ``predict_proba()``"
      ],
      "id": "2imBQjR-k_jk"
    },
    {
      "cell_type": "code",
      "execution_count": null,
      "metadata": {
        "id": "SPw1G6b9k_jk",
        "outputId": "03f120ae-517b-49f3-be04-d5796c715090"
      },
      "outputs": [
        {
          "data": {
            "text/plain": [
              "array([[8.32185590e-01, 1.67814410e-01],\n",
              "       [3.41733893e-02, 9.65826611e-01],\n",
              "       [9.94013654e-01, 5.98634631e-03],\n",
              "       [9.99949410e-01, 5.05900641e-05],\n",
              "       [9.98671233e-01, 1.32876689e-03],\n",
              "       [5.16380602e-03, 9.94836194e-01],\n",
              "       [1.27488254e-05, 9.99987251e-01],\n",
              "       [9.99999880e-01, 1.19798162e-07],\n",
              "       [9.23224037e-01, 7.67759626e-02],\n",
              "       [2.40299454e-01, 7.59700546e-01],\n",
              "       [2.75348109e-06, 9.99997247e-01],\n",
              "       [3.09960678e-08, 9.99999969e-01],\n",
              "       [9.03687042e-01, 9.63129576e-02],\n",
              "       [5.04797798e-06, 9.99994952e-01],\n",
              "       [7.99990823e-01, 2.00009177e-01],\n",
              "       [6.65327770e-03, 9.93346722e-01],\n",
              "       [1.50533900e-02, 9.84946610e-01],\n",
              "       [1.10359591e-02, 9.88964041e-01],\n",
              "       [5.08403586e-02, 9.49159641e-01],\n",
              "       [9.98930470e-01, 1.06952964e-03],\n",
              "       [9.80067054e-01, 1.99329463e-02],\n",
              "       [9.99938625e-01, 6.13754829e-05],\n",
              "       [9.92579877e-01, 7.42012311e-03],\n",
              "       [9.99288084e-01, 7.11915768e-04],\n",
              "       [8.78048666e-06, 9.99991220e-01],\n",
              "       [9.99761688e-01, 2.38311864e-04],\n",
              "       [7.00757774e-06, 9.99992992e-01],\n",
              "       [8.91886383e-01, 1.08113617e-01],\n",
              "       [1.95148213e-01, 8.04851787e-01],\n",
              "       [9.06126203e-01, 9.38737974e-02],\n",
              "       [7.73335603e-01, 2.26664397e-01],\n",
              "       [5.41198441e-06, 9.99994588e-01],\n",
              "       [9.88103629e-01, 1.18963709e-02],\n",
              "       [8.84093150e-01, 1.15906850e-01],\n",
              "       [1.32622337e-01, 8.67377663e-01],\n",
              "       [3.93180816e-01, 6.06819184e-01],\n",
              "       [5.22026620e-03, 9.94779734e-01],\n",
              "       [6.19932831e-01, 3.80067169e-01],\n",
              "       [7.03978568e-01, 2.96021432e-01],\n",
              "       [8.42553957e-03, 9.91574460e-01],\n",
              "       [9.86178738e-01, 1.38212619e-02],\n",
              "       [7.63276292e-01, 2.36723708e-01],\n",
              "       [2.82714151e-03, 9.97172858e-01],\n",
              "       [6.28849330e-03, 9.93711507e-01],\n",
              "       [1.48272103e-02, 9.85172790e-01],\n",
              "       [9.72769845e-01, 2.72301548e-02],\n",
              "       [3.37385943e-03, 9.96626141e-01],\n",
              "       [1.40031576e-02, 9.85996842e-01],\n",
              "       [1.13597130e-02, 9.88640287e-01],\n",
              "       [2.55546221e-02, 9.74445378e-01],\n",
              "       [9.99999900e-01, 1.00000010e-07],\n",
              "       [4.61462922e-09, 9.99999995e-01],\n",
              "       [7.25203645e-03, 9.92747964e-01],\n",
              "       [5.38864611e-06, 9.99994611e-01],\n",
              "       [5.25277883e-06, 9.99994747e-01],\n",
              "       [9.48772837e-01, 5.12271633e-02],\n",
              "       [8.45610123e-06, 9.99991544e-01],\n",
              "       [9.99928878e-01, 7.11217915e-05],\n",
              "       [2.06427101e-01, 7.93572899e-01],\n",
              "       [9.99999900e-01, 1.00000010e-07],\n",
              "       [9.43795188e-01, 5.62048122e-02],\n",
              "       [1.89919753e-07, 9.99999810e-01],\n",
              "       [9.50267850e-03, 9.90497321e-01],\n",
              "       [9.99813413e-01, 1.86587428e-04],\n",
              "       [3.17100287e-06, 9.99996829e-01],\n",
              "       [9.99984416e-01, 1.55839869e-05],\n",
              "       [9.99958926e-01, 4.10743419e-05],\n",
              "       [6.20356776e-01, 3.79643224e-01],\n",
              "       [3.45166707e-06, 9.99996548e-01],\n",
              "       [3.71570140e-01, 6.28429860e-01],\n",
              "       [4.87025884e-02, 9.51297412e-01],\n",
              "       [1.81441285e-01, 8.18558715e-01],\n",
              "       [6.95984634e-02, 9.30401537e-01],\n",
              "       [1.67094484e-01, 8.32905516e-01],\n",
              "       [9.58338491e-01, 4.16615088e-02],\n",
              "       [1.64381408e-02, 9.83561859e-01],\n",
              "       [2.74278344e-01, 7.25721656e-01],\n",
              "       [9.98018759e-01, 1.98124114e-03],\n",
              "       [5.65877429e-07, 9.99999434e-01],\n",
              "       [2.27796972e-01, 7.72203028e-01],\n",
              "       [9.46332184e-03, 9.90536678e-01],\n",
              "       [9.37228392e-03, 9.90627716e-01],\n",
              "       [4.99312714e-03, 9.95006873e-01],\n",
              "       [2.24182254e-02, 9.77581775e-01],\n",
              "       [1.46110643e-01, 8.53889357e-01],\n",
              "       [6.96174544e-08, 9.99999930e-01],\n",
              "       [4.61735565e-02, 9.53826443e-01],\n",
              "       [2.62763899e-02, 9.73723610e-01],\n",
              "       [7.11514452e-06, 9.99992885e-01],\n",
              "       [7.93910810e-01, 2.06089190e-01],\n",
              "       [8.49180987e-08, 9.99999915e-01],\n",
              "       [2.14923853e-01, 7.85076147e-01],\n",
              "       [4.95263773e-03, 9.95047362e-01],\n",
              "       [9.99997814e-01, 2.18604151e-06],\n",
              "       [3.00752183e-03, 9.96992478e-01],\n",
              "       [9.68339879e-01, 3.16601206e-02],\n",
              "       [7.40975038e-02, 9.25902496e-01],\n",
              "       [5.43988196e-01, 4.56011804e-01],\n",
              "       [1.91342983e-02, 9.80865702e-01],\n",
              "       [2.55345847e-06, 9.99997447e-01],\n",
              "       [5.20217154e-03, 9.94797828e-01],\n",
              "       [2.30980825e-01, 7.69019175e-01],\n",
              "       [2.73000377e-07, 9.99999727e-01],\n",
              "       [5.47273862e-09, 9.99999995e-01],\n",
              "       [1.35905679e-08, 9.99999986e-01],\n",
              "       [6.84728911e-06, 9.99993153e-01],\n",
              "       [9.92994680e-01, 7.00531997e-03],\n",
              "       [9.98814863e-01, 1.18513714e-03],\n",
              "       [9.99997713e-01, 2.28675363e-06],\n",
              "       [1.13298427e-01, 8.86701573e-01],\n",
              "       [9.67610489e-01, 3.23895113e-02],\n",
              "       [4.49728240e-02, 9.55027176e-01],\n",
              "       [8.31953650e-01, 1.68046350e-01],\n",
              "       [8.42364813e-08, 9.99999916e-01],\n",
              "       [3.84853331e-03, 9.96151467e-01],\n",
              "       [9.99973530e-01, 2.64698806e-05],\n",
              "       [6.66781427e-02, 9.33321857e-01],\n",
              "       [1.07388034e-02, 9.89261197e-01],\n",
              "       [8.24898853e-01, 1.75101147e-01],\n",
              "       [9.99998807e-01, 1.19280868e-06],\n",
              "       [6.76202194e-02, 9.32379781e-01],\n",
              "       [6.00910557e-02, 9.39908944e-01],\n",
              "       [5.54097002e-02, 9.44590300e-01],\n",
              "       [8.61875638e-01, 1.38124362e-01],\n",
              "       [3.24196681e-03, 9.96758033e-01],\n",
              "       [4.55587473e-02, 9.54441253e-01],\n",
              "       [4.21516976e-03, 9.95784830e-01],\n",
              "       [7.67930506e-01, 2.32069494e-01],\n",
              "       [3.83337571e-03, 9.96166624e-01],\n",
              "       [3.82908963e-03, 9.96170910e-01],\n",
              "       [9.98160034e-01, 1.83996554e-03],\n",
              "       [3.04465497e-02, 9.69553450e-01],\n",
              "       [1.42502359e-01, 8.57497641e-01],\n",
              "       [3.09807877e-02, 9.69019212e-01],\n",
              "       [9.89803733e-01, 1.01962669e-02],\n",
              "       [1.71697274e-05, 9.99982830e-01],\n",
              "       [2.34566038e-02, 9.76543396e-01],\n",
              "       [1.87640043e-05, 9.99981236e-01],\n",
              "       [7.32352675e-03, 9.92676473e-01],\n",
              "       [8.35567354e-02, 9.16443265e-01],\n",
              "       [1.73687127e-01, 8.26312873e-01],\n",
              "       [2.19214109e-07, 9.99999781e-01],\n",
              "       [9.74798862e-01, 2.52011381e-02],\n",
              "       [6.89666658e-08, 9.99999931e-01],\n",
              "       [9.98175327e-01, 1.82467318e-03],\n",
              "       [1.96759217e-02, 9.80324078e-01],\n",
              "       [2.95590866e-02, 9.70440913e-01],\n",
              "       [9.44342821e-01, 5.56571786e-02],\n",
              "       [9.89026859e-01, 1.09731407e-02],\n",
              "       [9.63067176e-01, 3.69328243e-02],\n",
              "       [1.43129120e-02, 9.85687088e-01],\n",
              "       [8.60086593e-01, 1.39913407e-01],\n",
              "       [8.38495880e-01, 1.61504120e-01],\n",
              "       [3.29741118e-02, 9.67025888e-01],\n",
              "       [6.25066620e-06, 9.99993749e-01],\n",
              "       [7.47195543e-02, 9.25280446e-01],\n",
              "       [1.80831486e-02, 9.81916851e-01],\n",
              "       [9.99964238e-01, 3.57623446e-05],\n",
              "       [1.14741582e-06, 9.99998853e-01],\n",
              "       [9.21620672e-02, 9.07837933e-01],\n",
              "       [5.09684238e-03, 9.94903158e-01],\n",
              "       [1.15286305e-02, 9.88471370e-01],\n",
              "       [9.99385438e-01, 6.14562244e-04],\n",
              "       [4.69720376e-02, 9.53027962e-01],\n",
              "       [6.08443089e-01, 3.91556911e-01],\n",
              "       [9.99986697e-01, 1.33025114e-05],\n",
              "       [1.49250448e-01, 8.50749552e-01],\n",
              "       [2.89711123e-03, 9.97102889e-01],\n",
              "       [4.78789585e-02, 9.52121041e-01],\n",
              "       [2.48562208e-07, 9.99999751e-01],\n",
              "       [9.40812821e-01, 5.91871793e-02],\n",
              "       [3.15921130e-03, 9.96840789e-01],\n",
              "       [6.65821246e-01, 3.34178754e-01],\n",
              "       [2.94045321e-01, 7.05954679e-01],\n",
              "       [3.07250304e-03, 9.96927497e-01],\n",
              "       [9.99449559e-01, 5.50440943e-04],\n",
              "       [3.63357582e-03, 9.96366424e-01],\n",
              "       [9.99639407e-01, 3.60592808e-04],\n",
              "       [8.09985471e-07, 9.99999190e-01],\n",
              "       [6.42590176e-02, 9.35740982e-01],\n",
              "       [2.24393949e-08, 9.99999978e-01],\n",
              "       [1.83485510e-02, 9.81651449e-01],\n",
              "       [6.56888894e-03, 9.93431111e-01],\n",
              "       [1.91092506e-01, 8.08907494e-01],\n",
              "       [4.59350345e-08, 9.99999954e-01],\n",
              "       [7.05654322e-02, 9.29434568e-01],\n",
              "       [1.82184944e-02, 9.81781506e-01],\n",
              "       [5.85621662e-03, 9.94143783e-01]])"
            ]
          },
          "execution_count": 33,
          "metadata": {},
          "output_type": "execute_result"
        }
      ],
      "source": [
        "svc_classifier_linear_predictions_continuous = svc_classifier_linear.predict_proba(features_test)\n",
        "svc_classifier_linear_predictions_continuous"
      ],
      "id": "SPw1G6b9k_jk"
    },
    {
      "cell_type": "code",
      "execution_count": null,
      "metadata": {
        "id": "VoXs2dD-k_jk"
      },
      "outputs": [],
      "source": [
        "dummy_classifier_predictions_continuous = dummy_classifier.predict_proba(features_test)"
      ],
      "id": "VoXs2dD-k_jk"
    },
    {
      "cell_type": "markdown",
      "metadata": {
        "id": "jSgm79wrk_jl"
      },
      "source": [
        "Acá podemos observar cómo varían las métricas de desempeño al variar el umbral."
      ],
      "id": "jSgm79wrk_jl"
    },
    {
      "cell_type": "code",
      "execution_count": null,
      "metadata": {
        "id": "EGJSyk6Uk_jl",
        "outputId": "623ba021-546a-4cca-abe2-c265a616ea79"
      },
      "outputs": [
        {
          "data": {
            "text/plain": [
              "0.9140625"
            ]
          },
          "execution_count": 35,
          "metadata": {},
          "output_type": "execute_result"
        }
      ],
      "source": [
        "recall_at_threshold(label_test,svc_classifier_linear_predictions_continuous,threshold=0.25)"
      ],
      "id": "EGJSyk6Uk_jl"
    },
    {
      "cell_type": "code",
      "execution_count": null,
      "metadata": {
        "id": "Gpn2c1r1k_jl",
        "outputId": "f04c2da4-23b2-45ee-d129-90bb79e55eef"
      },
      "outputs": [
        {
          "data": {
            "text/plain": [
              "0.9426229508196722"
            ]
          },
          "execution_count": 36,
          "metadata": {},
          "output_type": "execute_result"
        }
      ],
      "source": [
        "recall_at_threshold(label_test,svc_classifier_linear_predictions_continuous,threshold=0.5)"
      ],
      "id": "Gpn2c1r1k_jl"
    },
    {
      "cell_type": "code",
      "execution_count": null,
      "metadata": {
        "id": "0PP95qjak_jl",
        "outputId": "bf3e0ddd-358e-469b-b134-194e141d16b5"
      },
      "outputs": [
        {
          "data": {
            "text/plain": [
              "0.9661016949152542"
            ]
          },
          "execution_count": 37,
          "metadata": {},
          "output_type": "execute_result"
        }
      ],
      "source": [
        "recall_at_threshold(label_test,svc_classifier_linear_predictions_continuous,threshold=0.75)"
      ],
      "id": "0PP95qjak_jl"
    },
    {
      "cell_type": "code",
      "execution_count": null,
      "metadata": {
        "id": "HiSy8RAwk_jm",
        "outputId": "f6fd1837-c9f3-45af-b97e-afde757118bf"
      },
      "outputs": [
        {
          "data": {
            "text/plain": [
              "0.016666666666666666"
            ]
          },
          "execution_count": 38,
          "metadata": {},
          "output_type": "execute_result"
        }
      ],
      "source": [
        "false_positive_rate_at_threshold(label_test,svc_classifier_linear_predictions_continuous,threshold=0.25)"
      ],
      "id": "HiSy8RAwk_jm"
    },
    {
      "cell_type": "code",
      "execution_count": null,
      "metadata": {
        "id": "7oUeyhxNk_jn",
        "outputId": "190b1f14-16f1-4be4-f680-74d135dd5e5b"
      },
      "outputs": [
        {
          "data": {
            "text/plain": [
              "0.045454545454545456"
            ]
          },
          "execution_count": 39,
          "metadata": {},
          "output_type": "execute_result"
        }
      ],
      "source": [
        "false_positive_rate_at_threshold(label_test,svc_classifier_linear_predictions_continuous,threshold=0.5)"
      ],
      "id": "7oUeyhxNk_jn"
    },
    {
      "cell_type": "code",
      "execution_count": null,
      "metadata": {
        "id": "w5U4MASUk_jn",
        "outputId": "18be5250-1b33-4700-d866-c277cd0a8dc0"
      },
      "outputs": [
        {
          "data": {
            "text/plain": [
              "0.05714285714285714"
            ]
          },
          "execution_count": 40,
          "metadata": {},
          "output_type": "execute_result"
        }
      ],
      "source": [
        "false_positive_rate_at_threshold(label_test,svc_classifier_linear_predictions_continuous,threshold=0.75)"
      ],
      "id": "w5U4MASUk_jn"
    },
    {
      "cell_type": "markdown",
      "metadata": {
        "id": "o52mTnj_k_jn"
      },
      "source": [
        "Determinamos los umbrales en los cuales calcularemos las métricas."
      ],
      "id": "o52mTnj_k_jn"
    },
    {
      "cell_type": "code",
      "execution_count": null,
      "metadata": {
        "id": "Gcne1Qxmk_jn",
        "outputId": "402e418f-7b21-49df-ae80-2e88bb7e44d2"
      },
      "outputs": [
        {
          "data": {
            "text/plain": [
              "array([0.        , 0.01010101, 0.02020202, 0.03030303, 0.04040404,\n",
              "       0.05050505, 0.06060606, 0.07070707, 0.08080808, 0.09090909,\n",
              "       0.1010101 , 0.11111111, 0.12121212, 0.13131313, 0.14141414,\n",
              "       0.15151515, 0.16161616, 0.17171717, 0.18181818, 0.19191919,\n",
              "       0.2020202 , 0.21212121, 0.22222222, 0.23232323, 0.24242424,\n",
              "       0.25252525, 0.26262626, 0.27272727, 0.28282828, 0.29292929,\n",
              "       0.3030303 , 0.31313131, 0.32323232, 0.33333333, 0.34343434,\n",
              "       0.35353535, 0.36363636, 0.37373737, 0.38383838, 0.39393939,\n",
              "       0.4040404 , 0.41414141, 0.42424242, 0.43434343, 0.44444444,\n",
              "       0.45454545, 0.46464646, 0.47474747, 0.48484848, 0.49494949,\n",
              "       0.50505051, 0.51515152, 0.52525253, 0.53535354, 0.54545455,\n",
              "       0.55555556, 0.56565657, 0.57575758, 0.58585859, 0.5959596 ,\n",
              "       0.60606061, 0.61616162, 0.62626263, 0.63636364, 0.64646465,\n",
              "       0.65656566, 0.66666667, 0.67676768, 0.68686869, 0.6969697 ,\n",
              "       0.70707071, 0.71717172, 0.72727273, 0.73737374, 0.74747475,\n",
              "       0.75757576, 0.76767677, 0.77777778, 0.78787879, 0.7979798 ,\n",
              "       0.80808081, 0.81818182, 0.82828283, 0.83838384, 0.84848485,\n",
              "       0.85858586, 0.86868687, 0.87878788, 0.88888889, 0.8989899 ,\n",
              "       0.90909091, 0.91919192, 0.92929293, 0.93939394, 0.94949495,\n",
              "       0.95959596, 0.96969697, 0.97979798, 0.98989899, 1.        ])"
            ]
          },
          "execution_count": 41,
          "metadata": {},
          "output_type": "execute_result"
        }
      ],
      "source": [
        "thresholds = np.linspace(0,1,100) # Determinamos 100 números reales entre 0 y 1\n",
        "thresholds"
      ],
      "id": "Gcne1Qxmk_jn"
    },
    {
      "cell_type": "markdown",
      "metadata": {
        "id": "CSJaXLTgk_jn"
      },
      "source": [
        "Calculamos las métricas asociadas a cada umbral"
      ],
      "id": "CSJaXLTgk_jn"
    },
    {
      "cell_type": "code",
      "execution_count": null,
      "metadata": {
        "id": "DSmByV90k_jn",
        "outputId": "b85e4927-173b-481e-b4a2-8610f88d6c84"
      },
      "outputs": [
        {
          "name": "stderr",
          "output_type": "stream",
          "text": [
            "/home/fvillena/anaconda3/lib/python3.7/site-packages/ipykernel_launcher.py:3: RuntimeWarning: invalid value encountered in long_scalars\n",
            "  This is separate from the ipykernel package so we can avoid doing imports until\n"
          ]
        }
      ],
      "source": [
        "svc_classifier_linear_recall_sweep = [recall_at_threshold(label_test,svc_classifier_linear_predictions_continuous,threshold) for threshold in thresholds]"
      ],
      "id": "DSmByV90k_jn"
    },
    {
      "cell_type": "code",
      "execution_count": null,
      "metadata": {
        "scrolled": true,
        "id": "nX6omzzbk_jo",
        "outputId": "ea017a7c-94c5-40f3-aa48-765fdd75bd03"
      },
      "outputs": [
        {
          "data": {
            "text/plain": [
              "[0.6276595744680851,\n",
              " 0.7421383647798742,\n",
              " 0.7662337662337663,\n",
              " 0.7763157894736842,\n",
              " 0.7919463087248322,\n",
              " 0.7972972972972973,\n",
              " 0.8194444444444444,\n",
              " 0.8194444444444444,\n",
              " 0.8251748251748252,\n",
              " 0.8251748251748252,\n",
              " 0.8368794326241135,\n",
              " 0.8428571428571429,\n",
              " 0.8489208633093526,\n",
              " 0.8489208633093526,\n",
              " 0.8613138686131386,\n",
              " 0.8613138686131386,\n",
              " 0.8676470588235294,\n",
              " 0.8805970149253731,\n",
              " 0.8872180451127819,\n",
              " 0.8872180451127819,\n",
              " 0.8939393939393939,\n",
              " 0.9007633587786259,\n",
              " 0.9007633587786259,\n",
              " 0.9147286821705426,\n",
              " 0.9140625,\n",
              " 0.9140625,\n",
              " 0.9140625,\n",
              " 0.9140625,\n",
              " 0.9140625,\n",
              " 0.9140625,\n",
              " 0.9212598425196851,\n",
              " 0.9212598425196851,\n",
              " 0.9212598425196851,\n",
              " 0.9212598425196851,\n",
              " 0.9285714285714286,\n",
              " 0.9285714285714286,\n",
              " 0.9285714285714286,\n",
              " 0.9285714285714286,\n",
              " 0.9435483870967742,\n",
              " 0.943089430894309,\n",
              " 0.943089430894309,\n",
              " 0.943089430894309,\n",
              " 0.943089430894309,\n",
              " 0.943089430894309,\n",
              " 0.943089430894309,\n",
              " 0.943089430894309,\n",
              " 0.9426229508196722,\n",
              " 0.9426229508196722,\n",
              " 0.9426229508196722,\n",
              " 0.9426229508196722,\n",
              " 0.9426229508196722,\n",
              " 0.9426229508196722,\n",
              " 0.9426229508196722,\n",
              " 0.9426229508196722,\n",
              " 0.9426229508196722,\n",
              " 0.9426229508196722,\n",
              " 0.9426229508196722,\n",
              " 0.9426229508196722,\n",
              " 0.9426229508196722,\n",
              " 0.9426229508196722,\n",
              " 0.9426229508196722,\n",
              " 0.9504132231404959,\n",
              " 0.9504132231404959,\n",
              " 0.95,\n",
              " 0.95,\n",
              " 0.95,\n",
              " 0.95,\n",
              " 0.95,\n",
              " 0.95,\n",
              " 0.95,\n",
              " 0.957983193277311,\n",
              " 0.957983193277311,\n",
              " 0.9661016949152542,\n",
              " 0.9661016949152542,\n",
              " 0.9661016949152542,\n",
              " 0.9661016949152542,\n",
              " 0.9658119658119658,\n",
              " 0.9739130434782609,\n",
              " 0.9736842105263158,\n",
              " 0.9734513274336283,\n",
              " 0.9732142857142857,\n",
              " 0.9819819819819819,\n",
              " 0.981651376146789,\n",
              " 0.9814814814814815,\n",
              " 0.9814814814814815,\n",
              " 0.9809523809523809,\n",
              " 0.9807692307692307,\n",
              " 0.9807692307692307,\n",
              " 0.9805825242718447,\n",
              " 0.9805825242718447,\n",
              " 0.9803921568627451,\n",
              " 0.9801980198019802,\n",
              " 0.9797979797979798,\n",
              " 0.9787234042553191,\n",
              " 0.978021978021978,\n",
              " 0.9764705882352941,\n",
              " 0.9876543209876543,\n",
              " 0.9868421052631579,\n",
              " 1.0,\n",
              " nan]"
            ]
          },
          "execution_count": 43,
          "metadata": {},
          "output_type": "execute_result"
        }
      ],
      "source": [
        "svc_classifier_linear_recall_sweep"
      ],
      "id": "nX6omzzbk_jo"
    },
    {
      "cell_type": "code",
      "execution_count": null,
      "metadata": {
        "id": "_qo3x84xk_jo",
        "outputId": "32d12623-61fb-434a-939d-a766fa1163b6"
      },
      "outputs": [
        {
          "name": "stderr",
          "output_type": "stream",
          "text": [
            "/home/fvillena/anaconda3/lib/python3.7/site-packages/ipykernel_launcher.py:3: RuntimeWarning: invalid value encountered in long_scalars\n",
            "  This is separate from the ipykernel package so we can avoid doing imports until\n"
          ]
        }
      ],
      "source": [
        "svc_classifier_linear_false_positive_rate_sweep = [false_positive_rate_at_threshold(label_test,svc_classifier_linear_predictions_continuous,threshold) for threshold in thresholds]"
      ],
      "id": "_qo3x84xk_jo"
    },
    {
      "cell_type": "code",
      "execution_count": null,
      "metadata": {
        "scrolled": true,
        "id": "JEUyOLktk_jo",
        "outputId": "4fc4ae87-4f76-4023-e01b-4bb989c5b033"
      },
      "outputs": [
        {
          "data": {
            "text/plain": [
              "[nan,\n",
              " 0.0,\n",
              " 0.0,\n",
              " 0.0,\n",
              " 0.0,\n",
              " 0.0,\n",
              " 0.0,\n",
              " 0.0,\n",
              " 0.0,\n",
              " 0.0,\n",
              " 0.0,\n",
              " 0.0,\n",
              " 0.0,\n",
              " 0.0,\n",
              " 0.0,\n",
              " 0.0,\n",
              " 0.0,\n",
              " 0.0,\n",
              " 0.0,\n",
              " 0.0,\n",
              " 0.0,\n",
              " 0.0,\n",
              " 0.0,\n",
              " 0.0,\n",
              " 0.016666666666666666,\n",
              " 0.016666666666666666,\n",
              " 0.016666666666666666,\n",
              " 0.016666666666666666,\n",
              " 0.016666666666666666,\n",
              " 0.016666666666666666,\n",
              " 0.01639344262295082,\n",
              " 0.01639344262295082,\n",
              " 0.01639344262295082,\n",
              " 0.01639344262295082,\n",
              " 0.016129032258064516,\n",
              " 0.016129032258064516,\n",
              " 0.016129032258064516,\n",
              " 0.016129032258064516,\n",
              " 0.015625,\n",
              " 0.03076923076923077,\n",
              " 0.03076923076923077,\n",
              " 0.03076923076923077,\n",
              " 0.03076923076923077,\n",
              " 0.03076923076923077,\n",
              " 0.03076923076923077,\n",
              " 0.03076923076923077,\n",
              " 0.045454545454545456,\n",
              " 0.045454545454545456,\n",
              " 0.045454545454545456,\n",
              " 0.045454545454545456,\n",
              " 0.045454545454545456,\n",
              " 0.045454545454545456,\n",
              " 0.045454545454545456,\n",
              " 0.045454545454545456,\n",
              " 0.045454545454545456,\n",
              " 0.045454545454545456,\n",
              " 0.045454545454545456,\n",
              " 0.045454545454545456,\n",
              " 0.045454545454545456,\n",
              " 0.045454545454545456,\n",
              " 0.045454545454545456,\n",
              " 0.04477611940298507,\n",
              " 0.04477611940298507,\n",
              " 0.058823529411764705,\n",
              " 0.058823529411764705,\n",
              " 0.058823529411764705,\n",
              " 0.058823529411764705,\n",
              " 0.058823529411764705,\n",
              " 0.058823529411764705,\n",
              " 0.058823529411764705,\n",
              " 0.057971014492753624,\n",
              " 0.057971014492753624,\n",
              " 0.05714285714285714,\n",
              " 0.05714285714285714,\n",
              " 0.05714285714285714,\n",
              " 0.05714285714285714,\n",
              " 0.07042253521126761,\n",
              " 0.0821917808219178,\n",
              " 0.0945945945945946,\n",
              " 0.10666666666666667,\n",
              " 0.11842105263157894,\n",
              " 0.11688311688311688,\n",
              " 0.13924050632911392,\n",
              " 0.15,\n",
              " 0.15,\n",
              " 0.18072289156626506,\n",
              " 0.19047619047619047,\n",
              " 0.19047619047619047,\n",
              " 0.2,\n",
              " 0.2,\n",
              " 0.20930232558139536,\n",
              " 0.21839080459770116,\n",
              " 0.23595505617977527,\n",
              " 0.2765957446808511,\n",
              " 0.29896907216494845,\n",
              " 0.33980582524271846,\n",
              " 0.35514018691588783,\n",
              " 0.38392857142857145,\n",
              " 0.4444444444444444,\n",
              " 0.6276595744680851]"
            ]
          },
          "execution_count": 45,
          "metadata": {},
          "output_type": "execute_result"
        }
      ],
      "source": [
        "svc_classifier_linear_false_positive_rate_sweep"
      ],
      "id": "JEUyOLktk_jo"
    },
    {
      "cell_type": "markdown",
      "metadata": {
        "id": "EwGvpZBnk_jo"
      },
      "source": [
        "Visualizamos la curva."
      ],
      "id": "EwGvpZBnk_jo"
    },
    {
      "cell_type": "code",
      "execution_count": null,
      "metadata": {
        "id": "CgpnoZQXk_jo",
        "outputId": "6ec6192d-45ae-411f-a3d7-fbb2948cf99d"
      },
      "outputs": [
        {
          "data": {
            "text/plain": [
              "Text(0.5, 0, 'false_positive_rate')"
            ]
          },
          "execution_count": 46,
          "metadata": {},
          "output_type": "execute_result"
        },
        {
          "data": {
            "image/png": "[encoded data removed]",
            "text/plain": [
              "<Figure size 432x288 with 1 Axes>"
            ]
          },
          "metadata": {
            "needs_background": "light"
          },
          "output_type": "display_data"
        }
      ],
      "source": [
        "plt.plot(\n",
        "    svc_classifier_linear_false_positive_rate_sweep,\n",
        "    svc_classifier_linear_recall_sweep,\n",
        "    \"-o\"   \n",
        ")\n",
        "plt.ylabel(\"recall\")\n",
        "plt.xlabel(\"false_positive_rate\")"
      ],
      "id": "CgpnoZQXk_jo"
    },
    {
      "cell_type": "markdown",
      "metadata": {
        "id": "Tsgbaa7Ok_jp"
      },
      "source": [
        "sklearn nos provee de una función que automáticamente nos grafica la curva ROC y nos calcula el área bajo la curva. Podemos ver que el modelo que retorna valores al azar tiene un valor de área bajo la curva de 0.5, que por definición siempre se asocia a un estimador al azar."
      ],
      "id": "Tsgbaa7Ok_jp"
    },
    {
      "cell_type": "code",
      "execution_count": null,
      "metadata": {
        "id": "VNlocZuyk_jp",
        "outputId": "b6bb7e08-474c-45d8-dcbe-39f744d84054"
      },
      "outputs": [
        {
          "data": {
            "image/png": "[encoded data removed]",
            "text/plain": [
              "<Figure size 432x288 with 1 Axes>"
            ]
          },
          "metadata": {
            "needs_background": "light"
          },
          "output_type": "display_data"
        }
      ],
      "source": [
        "svc_roc_curve = sklearn.metrics.plot_roc_curve(\n",
        "    svc_classifier_linear,\n",
        "    features_test,\n",
        "    label_test\n",
        ")\n",
        "rfc_disp = sklearn.metrics.plot_roc_curve(\n",
        "    dummy_classifier,\n",
        "    features_test,\n",
        "    label_test,\n",
        "    ax=svc_roc_curve.ax_\n",
        ")"
      ],
      "id": "VNlocZuyk_jp"
    },
    {
      "cell_type": "code",
      "execution_count": null,
      "metadata": {
        "id": "X77QO1fMk_jp"
      },
      "outputs": [],
      "source": [
        ""
      ],
      "id": "X77QO1fMk_jp"
    }
  ],
  "metadata": {
    "kernelspec": {
      "display_name": "Python 3",
      "language": "python",
      "name": "python3"
    },
    "language_info": {
      "codemirror_mode": {
        "name": "ipython",
        "version": 3
      },
      "file_extension": ".py",
      "mimetype": "text/x-python",
      "name": "python",
      "nbconvert_exporter": "python",
      "pygments_lexer": "ipython3",
      "version": "3.7.4"
    },
    "colab": {
      "name": "2-classification_metrics.ipynb",
      "provenance": [],
      "include_colab_link": true
    }
  },
  "nbformat": 4,
  "nbformat_minor": 5
}